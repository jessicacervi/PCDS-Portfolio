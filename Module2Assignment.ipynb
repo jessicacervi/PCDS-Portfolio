{
 "cells": [
  {
   "cell_type": "markdown",
   "metadata": {
    "nbgrader": {
     "grade": false,
     "grade_id": "cell-ab01b87b3834108c",
     "locked": true,
     "schema_version": 1,
     "solution": false
    }
   },
   "source": [
    "###### Consider a physician who's workload is 30 patients per day. Unfortunately, because of no-shows, about 25% of patients fail to show up to their appointments leading to loss revenue for the physician. In this activity we will walk through the process of finding the ideal amount of patient bookings per day. First, use python to intuitively calculate how many patients the physician should book to stay busy if only 75% of scheduled patients show up."
   ]
  },
  {
   "cell_type": "code",
   "execution_count": 2,
   "metadata": {
    "nbgrader": {
     "grade": false,
     "grade_id": "cell-1848702d6b2be72b",
     "locked": false,
     "schema_version": 1,
     "solution": true
    }
   },
   "outputs": [],
   "source": [
    "#ENTER YOU CODE BELOW# \n",
    "import scipy\n",
    "from scipy.stats import binom\n",
    "\n",
    "#Max number of patients per day \n",
    "workload = 30\n",
    "\n",
    "#Percentage of patients that show up\n",
    "prob = 0.75\n",
    "\n",
    "#Set \"x\" as your answer\n",
    "#Replace the \"raise NotImplementedError()\" with your code. DO NOT HAVE IT IN YOUR SUBMISSION\n",
    "### BEGIN SOLUTION\n",
    "x = workload / prob\n",
    "\n",
    "### END SOLUTION"
   ]
  },
  {
   "cell_type": "code",
   "execution_count": 4,
   "metadata": {
    "nbgrader": {
     "grade": true,
     "grade_id": "cell-0a1e26a0ea9874ed",
     "locked": true,
     "points": 2,
     "schema_version": 1,
     "solution": false
    }
   },
   "outputs": [],
   "source": [
    "### BEGIN HIDDEN TESTS\n",
    "import scipy\n",
    "from scipy.stats import binom\n",
    "\n",
    "x_ =  30/0.75\n",
    "\n",
    "assert x_ == x\n",
    "\n",
    "### END HIDDEN TESTS"
   ]
  },
  {
   "cell_type": "markdown",
   "metadata": {
    "nbgrader": {
     "grade": false,
     "grade_id": "cell-f9ff7f87431d0673",
     "locked": true,
     "schema_version": 1,
     "solution": false
    }
   },
   "source": [
    "###### Because you are using historical data to assume 25% of patients no-show, this is a binomial distribution model. Similarly to how you calculate the normal distribution's Cumulative density function and Probability density function, do the same for this normal distribution. First fill in the x and probability values to display the normal distribution of the linearly calculated value you found in the previous step. "
   ]
  },
  {
   "cell_type": "code",
   "execution_count": 13,
   "metadata": {
    "nbgrader": {
     "grade": false,
     "grade_id": "cell-c7400fcce703e925",
     "locked": false,
     "schema_version": 1,
     "solution": true
    }
   },
   "outputs": [
    {
     "data": {
      "image/png": "[encoded data removed]",
      "text/plain": [
       "<Figure size 432x288 with 1 Axes>"
      ]
     },
     "metadata": {
      "needs_background": "light"
     },
     "output_type": "display_data"
    },
    {
     "data": {
      "text/plain": [
       "[(-0.4, 0),\n",
       " (0.6, 0),\n",
       " (1.6, 0),\n",
       " (2.6, 0),\n",
       " (3.6, 0),\n",
       " (4.6, 0),\n",
       " (5.6, 0),\n",
       " (6.6, 0),\n",
       " (7.6, 0),\n",
       " (8.6, 0),\n",
       " (9.6, 0),\n",
       " (10.6, 0),\n",
       " (11.6, 0),\n",
       " (12.6, 0),\n",
       " (13.6, 0),\n",
       " (14.6, 0),\n",
       " (15.6, 0),\n",
       " (16.6, 0),\n",
       " (17.6, 0),\n",
       " (18.6, 0),\n",
       " (19.6, 0),\n",
       " (20.6, 0),\n",
       " (21.6, 0),\n",
       " (22.6, 0),\n",
       " (23.6, 0),\n",
       " (24.6, 0),\n",
       " (25.6, 0),\n",
       " (26.6, 0),\n",
       " (27.6, 0),\n",
       " (28.6, 0),\n",
       " (29.6, 0),\n",
       " (30.6, 0),\n",
       " (31.6, 0),\n",
       " (32.6, 0),\n",
       " (33.6, 0),\n",
       " (34.6, 0),\n",
       " (35.6, 0),\n",
       " (36.6, 0),\n",
       " (37.6, 0),\n",
       " (38.6, 0),\n",
       " (39.6, 0)]"
      ]
     },
     "execution_count": 13,
     "metadata": {},
     "output_type": "execute_result"
    }
   ],
   "source": [
    "#ENETER YOU CODAE BELOW#\n",
    "import scipy\n",
    "from scipy.stats import binom\n",
    "import matplotlib.pyplot as plt\n",
    "\n",
    "# set  the values of x and prob\n",
    "x = 40\n",
    "prob = 0.75\n",
    "# defining list of r values\n",
    "r_values = list(range(x + 1))\n",
    "\n",
    "# generate the \"dist\" variable by calling the binom.pmf() function below. this will be the list of pmf values\n",
    "#Replace the \"raise NotImplementedError()\" with your code. DO NOT HAVE IT IN YOUR SUBMISSION\n",
    "### BEGIN SOLUTION\n",
    "dist = [binom.pmf(r, x, prob) for r in r_values ]\n",
    "\n",
    "### END SOLUTION\n",
    "\n",
    "# Plotting the graph. Do not change. Used for grading\n",
    "plots = plt.bar(r_values, dist)\n",
    "xy = []\n",
    "for plot in plots:\n",
    "    xy.append(plot.get_xy())\n",
    "plt.show()"
   ]
  },
  {
   "cell_type": "code",
   "execution_count": 14,
   "metadata": {
    "nbgrader": {
     "grade": true,
     "grade_id": "cell-8e74cc38f0775984",
     "locked": true,
     "points": 2,
     "schema_version": 1,
     "solution": false
    }
   },
   "outputs": [
    {
     "data": {
      "image/png": "[encoded data removed]",
      "text/plain": [
       "<Figure size 432x288 with 1 Axes>"
      ]
     },
     "metadata": {
      "needs_background": "light"
     },
     "output_type": "display_data"
    }
   ],
   "source": [
    "### BEGIN HIDDEN TESTS\n",
    "import scipy\n",
    "import matplotlib.pyplot as plt \n",
    "\n",
    "# set the values of n and p\n",
    "x = 40\n",
    "prob = 0.75\n",
    "\n",
    "\n",
    "# defining list of r values\n",
    "r_values = list(range(x + 1))\n",
    "# list of pmf values\n",
    "dist = [binom.pmf(r, x, prob) for r in r_values ]\n",
    "# plotting the graph \n",
    "plots_ = plt.bar(r_values, dist)\n",
    "xy_ = []\n",
    "for plot_ in plots_:\n",
    "    xy_.append(plot_.get_xy())\n",
    "plt.show()\n",
    "plt.show()\n",
    "\n",
    "assert xy_ == xy_\n",
    "\n",
    "### END HIDDEN TESTS"
   ]
  },
  {
   "cell_type": "markdown",
   "metadata": {
    "nbgrader": {
     "grade": false,
     "grade_id": "cell-735fdacd3c63d04a",
     "locked": true,
     "schema_version": 1,
     "solution": false
    }
   },
   "source": [
    "###### Next, use Python's scipy.stats.binom package to get more insight of the situation. Find the cumulative density function to statistically calculate how much (in percent) will the physician be overbooked if we use the linear calculations from the first step to overbook patients. "
   ]
  },
  {
   "cell_type": "code",
   "execution_count": null,
   "metadata": {
    "nbgrader": {
     "grade": false,
     "grade_id": "cell-9ffb9d53c5071194",
     "locked": false,
     "schema_version": 1,
     "solution": true
    }
   },
   "outputs": [],
   "source": [
    "\n",
    "#Fill in your linear prediction\n",
    "linearPrediction = 40\n",
    "workload = 30\n",
    "prob = 0.75\n",
    "#Find the amount overworked by calculating 1 - cdf(). Set the output to a variable called \"overworked\"\n",
    "#Replace the \"raise NotImplementedError()\" with your code. DO NOT HAVE IT IN YOUR SUBMISSION\n",
    "### BEGIN SOLUTION\n",
    "overworked = 1 - binom.cdf(k = workload , n = linearPrediction, p = prob )\n",
    "### END SOLUTION\n",
    "overworked"
   ]
  },
  {
   "cell_type": "code",
   "execution_count": 72,
   "metadata": {
    "nbgrader": {
     "grade": true,
     "grade_id": "cell-dedc136a558004f0",
     "locked": true,
     "points": 2,
     "schema_version": 1,
     "solution": false
    }
   },
   "outputs": [
    {
     "data": {
      "text/plain": [
       "0.439539731672533"
      ]
     },
     "execution_count": 72,
     "metadata": {},
     "output_type": "execute_result"
    }
   ],
   "source": [
    "### BEGIN HIDDEN TESTS\n",
    "overworked_ = 1 - binom.cdf(k = workload , n = linearPrediction, p = prob )\n",
    "assert overworked == overworked_\n",
    "### END HIDDEN TESTS"
   ]
  },
  {
   "cell_type": "markdown",
   "metadata": {
    "nbgrader": {
     "grade": false,
     "grade_id": "cell-5f3773a408ebc547",
     "locked": true,
     "schema_version": 1,
     "solution": false
    }
   },
   "source": [
    "###### Finally, use the binomial ppf() function to what is the number of appointments the physician should book if she wants to limit the risk of having more than 30 appointments per day to 5%"
   ]
  },
  {
   "cell_type": "code",
   "execution_count": 15,
   "metadata": {
    "nbgrader": {
     "grade": false,
     "grade_id": "cell-a7e4987d4d4bb2ef",
     "locked": false,
     "schema_version": 1,
     "solution": true
    }
   },
   "outputs": [
    {
     "data": {
      "text/plain": [
       "34.0"
      ]
     },
     "execution_count": 15,
     "metadata": {},
     "output_type": "execute_result"
    }
   ],
   "source": [
    "#Your solution here\n",
    "from scipy.stats import binom\n",
    "\n",
    "workload =30\n",
    "prob = 0.75\n",
    "#Target amount of overbooked patients\n",
    "target = 0.05\n",
    "\n",
    "# Set \"total\" = workload + ppf() -- hint: p = 1-prob\n",
    "### BEGIN SOLUTION\n",
    "#Replace the \"raise NotImplementedError()\" with your code. DO NOT HAVE IT IN YOUR SUBMISSION\n",
    "total = workload + binom.ppf(q = target ,n = workload ,p= 1 - prob,loc=0)\n",
    "\n",
    "### END SOLUTION\n",
    "total"
   ]
  },
  {
   "cell_type": "code",
   "execution_count": 17,
   "metadata": {
    "nbgrader": {
     "grade": true,
     "grade_id": "cell-f2892b3e323a1b4d",
     "locked": true,
     "points": 2,
     "schema_version": 1,
     "solution": false
    }
   },
   "outputs": [
    {
     "data": {
      "text/plain": [
       "34.0"
      ]
     },
     "execution_count": 17,
     "metadata": {},
     "output_type": "execute_result"
    }
   ],
   "source": [
    "###BEGIN HIDDEN TESTS\n",
    "\n",
    "total_ = workload + binom.ppf(q = target ,n = workload ,p= 1 - prob,loc=0)\n",
    "\n",
    "assert total_ == total\n",
    "### END HIDDEN TESTS"
   ]
  }
 ],
 "metadata": {
  "celltoolbar": "Create Assignment",
  "kernelspec": {
   "display_name": "Python 3",
   "language": "python",
   "name": "python3"
  },
  "language_info": {
   "codemirror_mode": {
    "name": "ipython",
    "version": 3
   },
   "file_extension": ".py",
   "mimetype": "text/x-python",
   "name": "python",
   "nbconvert_exporter": "python",
   "pygments_lexer": "ipython3",
   "version": "3.6.9"
  }
 },
 "nbformat": 4,
 "nbformat_minor": 5
}
